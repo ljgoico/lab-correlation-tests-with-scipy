{
 "cells": [
  {
   "cell_type": "markdown",
   "metadata": {},
   "source": [
    "# Before your start:\n",
    "- Read the README.md file\n",
    "- Comment as much as you can and use the resources (README.md file)\n",
    "- Happy learning!"
   ]
  },
  {
   "cell_type": "code",
   "execution_count": 3,
   "metadata": {},
   "outputs": [],
   "source": [
    "%matplotlib inline\n",
    "# import numpy and pandas\n",
    "import numpy as np\n",
    "import pandas as pd"
   ]
  },
  {
   "cell_type": "markdown",
   "metadata": {},
   "source": [
    "# Challenge 1 - Analysis of Variance\n",
    "\n",
    "In this part of the lesson, we will perform an analysis of variance to determine whether the factors in our model create a significant difference in the group means. We will be examining a dataset of FIFA players. We'll start by loading the data using the code in the cell below."
   ]
  },
  {
   "cell_type": "code",
   "execution_count": 4,
   "metadata": {},
   "outputs": [],
   "source": [
    "# Run this code:\n",
    "\n",
    "fifa = pd.read_csv('fifa.csv')"
   ]
  },
  {
   "cell_type": "markdown",
   "metadata": {},
   "source": [
    "Let's examine the dataset by looking at the `head`."
   ]
  },
  {
   "cell_type": "code",
   "execution_count": 3,
   "metadata": {},
   "outputs": [
    {
     "data": {
      "text/html": [
       "<div>\n",
       "<style scoped>\n",
       "    .dataframe tbody tr th:only-of-type {\n",
       "        vertical-align: middle;\n",
       "    }\n",
       "\n",
       "    .dataframe tbody tr th {\n",
       "        vertical-align: top;\n",
       "    }\n",
       "\n",
       "    .dataframe thead th {\n",
       "        text-align: right;\n",
       "    }\n",
       "</style>\n",
       "<table border=\"1\" class=\"dataframe\">\n",
       "  <thead>\n",
       "    <tr style=\"text-align: right;\">\n",
       "      <th></th>\n",
       "      <th>Name</th>\n",
       "      <th>Age</th>\n",
       "      <th>Nationality</th>\n",
       "      <th>Overall</th>\n",
       "      <th>Potential</th>\n",
       "      <th>Club</th>\n",
       "      <th>Value</th>\n",
       "      <th>Preferred Foot</th>\n",
       "      <th>Position</th>\n",
       "      <th>Weak Foot</th>\n",
       "      <th>Acceleration</th>\n",
       "      <th>SprintSpeed</th>\n",
       "      <th>Stamina</th>\n",
       "      <th>Strength</th>\n",
       "      <th>LongShots</th>\n",
       "      <th>Aggression</th>\n",
       "      <th>Interceptions</th>\n",
       "      <th>Positioning</th>\n",
       "      <th>Vision</th>\n",
       "      <th>Penalties</th>\n",
       "    </tr>\n",
       "  </thead>\n",
       "  <tbody>\n",
       "    <tr>\n",
       "      <th>0</th>\n",
       "      <td>L. Messi</td>\n",
       "      <td>31</td>\n",
       "      <td>Argentina</td>\n",
       "      <td>94</td>\n",
       "      <td>94</td>\n",
       "      <td>FC Barcelona</td>\n",
       "      <td>€110.5M</td>\n",
       "      <td>Left</td>\n",
       "      <td>RF</td>\n",
       "      <td>4.0</td>\n",
       "      <td>91.0</td>\n",
       "      <td>86.0</td>\n",
       "      <td>72.0</td>\n",
       "      <td>59.0</td>\n",
       "      <td>94.0</td>\n",
       "      <td>48.0</td>\n",
       "      <td>22.0</td>\n",
       "      <td>94.0</td>\n",
       "      <td>94.0</td>\n",
       "      <td>75.0</td>\n",
       "    </tr>\n",
       "    <tr>\n",
       "      <th>1</th>\n",
       "      <td>Cristiano Ronaldo</td>\n",
       "      <td>33</td>\n",
       "      <td>Portugal</td>\n",
       "      <td>94</td>\n",
       "      <td>94</td>\n",
       "      <td>Juventus</td>\n",
       "      <td>€77M</td>\n",
       "      <td>Right</td>\n",
       "      <td>ST</td>\n",
       "      <td>4.0</td>\n",
       "      <td>89.0</td>\n",
       "      <td>91.0</td>\n",
       "      <td>88.0</td>\n",
       "      <td>79.0</td>\n",
       "      <td>93.0</td>\n",
       "      <td>63.0</td>\n",
       "      <td>29.0</td>\n",
       "      <td>95.0</td>\n",
       "      <td>82.0</td>\n",
       "      <td>85.0</td>\n",
       "    </tr>\n",
       "    <tr>\n",
       "      <th>2</th>\n",
       "      <td>Neymar Jr</td>\n",
       "      <td>26</td>\n",
       "      <td>Brazil</td>\n",
       "      <td>92</td>\n",
       "      <td>93</td>\n",
       "      <td>Paris Saint-Germain</td>\n",
       "      <td>€118.5M</td>\n",
       "      <td>Right</td>\n",
       "      <td>LW</td>\n",
       "      <td>5.0</td>\n",
       "      <td>94.0</td>\n",
       "      <td>90.0</td>\n",
       "      <td>81.0</td>\n",
       "      <td>49.0</td>\n",
       "      <td>82.0</td>\n",
       "      <td>56.0</td>\n",
       "      <td>36.0</td>\n",
       "      <td>89.0</td>\n",
       "      <td>87.0</td>\n",
       "      <td>81.0</td>\n",
       "    </tr>\n",
       "    <tr>\n",
       "      <th>3</th>\n",
       "      <td>De Gea</td>\n",
       "      <td>27</td>\n",
       "      <td>Spain</td>\n",
       "      <td>91</td>\n",
       "      <td>93</td>\n",
       "      <td>Manchester United</td>\n",
       "      <td>€72M</td>\n",
       "      <td>Right</td>\n",
       "      <td>GK</td>\n",
       "      <td>3.0</td>\n",
       "      <td>57.0</td>\n",
       "      <td>58.0</td>\n",
       "      <td>43.0</td>\n",
       "      <td>64.0</td>\n",
       "      <td>12.0</td>\n",
       "      <td>38.0</td>\n",
       "      <td>30.0</td>\n",
       "      <td>12.0</td>\n",
       "      <td>68.0</td>\n",
       "      <td>40.0</td>\n",
       "    </tr>\n",
       "    <tr>\n",
       "      <th>4</th>\n",
       "      <td>K. De Bruyne</td>\n",
       "      <td>27</td>\n",
       "      <td>Belgium</td>\n",
       "      <td>91</td>\n",
       "      <td>92</td>\n",
       "      <td>Manchester City</td>\n",
       "      <td>€102M</td>\n",
       "      <td>Right</td>\n",
       "      <td>RCM</td>\n",
       "      <td>5.0</td>\n",
       "      <td>78.0</td>\n",
       "      <td>76.0</td>\n",
       "      <td>90.0</td>\n",
       "      <td>75.0</td>\n",
       "      <td>91.0</td>\n",
       "      <td>76.0</td>\n",
       "      <td>61.0</td>\n",
       "      <td>87.0</td>\n",
       "      <td>94.0</td>\n",
       "      <td>79.0</td>\n",
       "    </tr>\n",
       "  </tbody>\n",
       "</table>\n",
       "</div>"
      ],
      "text/plain": [
       "                Name  Age Nationality  Overall  Potential  \\\n",
       "0           L. Messi   31   Argentina       94         94   \n",
       "1  Cristiano Ronaldo   33    Portugal       94         94   \n",
       "2          Neymar Jr   26      Brazil       92         93   \n",
       "3             De Gea   27       Spain       91         93   \n",
       "4       K. De Bruyne   27     Belgium       91         92   \n",
       "\n",
       "                  Club    Value Preferred Foot Position  Weak Foot  \\\n",
       "0         FC Barcelona  €110.5M           Left       RF        4.0   \n",
       "1             Juventus     €77M          Right       ST        4.0   \n",
       "2  Paris Saint-Germain  €118.5M          Right       LW        5.0   \n",
       "3    Manchester United     €72M          Right       GK        3.0   \n",
       "4      Manchester City    €102M          Right      RCM        5.0   \n",
       "\n",
       "   Acceleration  SprintSpeed  Stamina  Strength  LongShots  Aggression  \\\n",
       "0          91.0         86.0     72.0      59.0       94.0        48.0   \n",
       "1          89.0         91.0     88.0      79.0       93.0        63.0   \n",
       "2          94.0         90.0     81.0      49.0       82.0        56.0   \n",
       "3          57.0         58.0     43.0      64.0       12.0        38.0   \n",
       "4          78.0         76.0     90.0      75.0       91.0        76.0   \n",
       "\n",
       "   Interceptions  Positioning  Vision  Penalties  \n",
       "0           22.0         94.0    94.0       75.0  \n",
       "1           29.0         95.0    82.0       85.0  \n",
       "2           36.0         89.0    87.0       81.0  \n",
       "3           30.0         12.0    68.0       40.0  \n",
       "4           61.0         87.0    94.0       79.0  "
      ]
     },
     "execution_count": 3,
     "metadata": {},
     "output_type": "execute_result"
    }
   ],
   "source": [
    "# Your code here:\n",
    "\n",
    "fifa.head()"
   ]
  },
  {
   "cell_type": "markdown",
   "metadata": {},
   "source": [
    "Player's values are expressed in millions of euros. We would like this column to be numeric. Therefore, let's create a numeric value column. Do this by stripping all non-numeric characters from each cell. Assign this new data to `ValueNumeric`. There is no need to multiply the value to be expressed in millions. "
   ]
  },
  {
   "cell_type": "code",
   "execution_count": 9,
   "metadata": {},
   "outputs": [],
   "source": [
    "def givemethemoneyman(value):\n",
    "    value = value.replace(\"€\", \"\")\n",
    "    if \"M\" in value:\n",
    "        value = value.replace(\"M\",\"\")\n",
    "        value = float(value) * 1000000\n",
    "    elif \"K\" in value:\n",
    "        value = value.replace(\"K\", \"\")\n",
    "        value = float(value) * 1000\n",
    "    return float(value)"
   ]
  },
  {
   "cell_type": "code",
   "execution_count": 10,
   "metadata": {},
   "outputs": [],
   "source": [
    "# Your code here:\n",
    "\n",
    "#Firstly we remove the characters we want to get rid of\n",
    "fifa[\"ValueNumeric\"] = fifa[\"Value\"].apply(givemethemoneyman)"
   ]
  },
  {
   "cell_type": "code",
   "execution_count": 11,
   "metadata": {},
   "outputs": [
    {
     "data": {
      "text/html": [
       "<div>\n",
       "<style scoped>\n",
       "    .dataframe tbody tr th:only-of-type {\n",
       "        vertical-align: middle;\n",
       "    }\n",
       "\n",
       "    .dataframe tbody tr th {\n",
       "        vertical-align: top;\n",
       "    }\n",
       "\n",
       "    .dataframe thead th {\n",
       "        text-align: right;\n",
       "    }\n",
       "</style>\n",
       "<table border=\"1\" class=\"dataframe\">\n",
       "  <thead>\n",
       "    <tr style=\"text-align: right;\">\n",
       "      <th></th>\n",
       "      <th>Name</th>\n",
       "      <th>Age</th>\n",
       "      <th>Nationality</th>\n",
       "      <th>Overall</th>\n",
       "      <th>Potential</th>\n",
       "      <th>Club</th>\n",
       "      <th>Value</th>\n",
       "      <th>Preferred Foot</th>\n",
       "      <th>Position</th>\n",
       "      <th>Weak Foot</th>\n",
       "      <th>...</th>\n",
       "      <th>SprintSpeed</th>\n",
       "      <th>Stamina</th>\n",
       "      <th>Strength</th>\n",
       "      <th>LongShots</th>\n",
       "      <th>Aggression</th>\n",
       "      <th>Interceptions</th>\n",
       "      <th>Positioning</th>\n",
       "      <th>Vision</th>\n",
       "      <th>Penalties</th>\n",
       "      <th>ValueNumeric</th>\n",
       "    </tr>\n",
       "  </thead>\n",
       "  <tbody>\n",
       "    <tr>\n",
       "      <th>0</th>\n",
       "      <td>L. Messi</td>\n",
       "      <td>31</td>\n",
       "      <td>Argentina</td>\n",
       "      <td>94</td>\n",
       "      <td>94</td>\n",
       "      <td>FC Barcelona</td>\n",
       "      <td>€110.5M</td>\n",
       "      <td>Left</td>\n",
       "      <td>RF</td>\n",
       "      <td>4.0</td>\n",
       "      <td>...</td>\n",
       "      <td>86.0</td>\n",
       "      <td>72.0</td>\n",
       "      <td>59.0</td>\n",
       "      <td>94.0</td>\n",
       "      <td>48.0</td>\n",
       "      <td>22.0</td>\n",
       "      <td>94.0</td>\n",
       "      <td>94.0</td>\n",
       "      <td>75.0</td>\n",
       "      <td>110500000.0</td>\n",
       "    </tr>\n",
       "    <tr>\n",
       "      <th>1</th>\n",
       "      <td>Cristiano Ronaldo</td>\n",
       "      <td>33</td>\n",
       "      <td>Portugal</td>\n",
       "      <td>94</td>\n",
       "      <td>94</td>\n",
       "      <td>Juventus</td>\n",
       "      <td>€77M</td>\n",
       "      <td>Right</td>\n",
       "      <td>ST</td>\n",
       "      <td>4.0</td>\n",
       "      <td>...</td>\n",
       "      <td>91.0</td>\n",
       "      <td>88.0</td>\n",
       "      <td>79.0</td>\n",
       "      <td>93.0</td>\n",
       "      <td>63.0</td>\n",
       "      <td>29.0</td>\n",
       "      <td>95.0</td>\n",
       "      <td>82.0</td>\n",
       "      <td>85.0</td>\n",
       "      <td>77000000.0</td>\n",
       "    </tr>\n",
       "    <tr>\n",
       "      <th>2</th>\n",
       "      <td>Neymar Jr</td>\n",
       "      <td>26</td>\n",
       "      <td>Brazil</td>\n",
       "      <td>92</td>\n",
       "      <td>93</td>\n",
       "      <td>Paris Saint-Germain</td>\n",
       "      <td>€118.5M</td>\n",
       "      <td>Right</td>\n",
       "      <td>LW</td>\n",
       "      <td>5.0</td>\n",
       "      <td>...</td>\n",
       "      <td>90.0</td>\n",
       "      <td>81.0</td>\n",
       "      <td>49.0</td>\n",
       "      <td>82.0</td>\n",
       "      <td>56.0</td>\n",
       "      <td>36.0</td>\n",
       "      <td>89.0</td>\n",
       "      <td>87.0</td>\n",
       "      <td>81.0</td>\n",
       "      <td>118500000.0</td>\n",
       "    </tr>\n",
       "    <tr>\n",
       "      <th>3</th>\n",
       "      <td>De Gea</td>\n",
       "      <td>27</td>\n",
       "      <td>Spain</td>\n",
       "      <td>91</td>\n",
       "      <td>93</td>\n",
       "      <td>Manchester United</td>\n",
       "      <td>€72M</td>\n",
       "      <td>Right</td>\n",
       "      <td>GK</td>\n",
       "      <td>3.0</td>\n",
       "      <td>...</td>\n",
       "      <td>58.0</td>\n",
       "      <td>43.0</td>\n",
       "      <td>64.0</td>\n",
       "      <td>12.0</td>\n",
       "      <td>38.0</td>\n",
       "      <td>30.0</td>\n",
       "      <td>12.0</td>\n",
       "      <td>68.0</td>\n",
       "      <td>40.0</td>\n",
       "      <td>72000000.0</td>\n",
       "    </tr>\n",
       "    <tr>\n",
       "      <th>4</th>\n",
       "      <td>K. De Bruyne</td>\n",
       "      <td>27</td>\n",
       "      <td>Belgium</td>\n",
       "      <td>91</td>\n",
       "      <td>92</td>\n",
       "      <td>Manchester City</td>\n",
       "      <td>€102M</td>\n",
       "      <td>Right</td>\n",
       "      <td>RCM</td>\n",
       "      <td>5.0</td>\n",
       "      <td>...</td>\n",
       "      <td>76.0</td>\n",
       "      <td>90.0</td>\n",
       "      <td>75.0</td>\n",
       "      <td>91.0</td>\n",
       "      <td>76.0</td>\n",
       "      <td>61.0</td>\n",
       "      <td>87.0</td>\n",
       "      <td>94.0</td>\n",
       "      <td>79.0</td>\n",
       "      <td>102000000.0</td>\n",
       "    </tr>\n",
       "  </tbody>\n",
       "</table>\n",
       "<p>5 rows × 21 columns</p>\n",
       "</div>"
      ],
      "text/plain": [
       "                Name  Age Nationality  Overall  Potential  \\\n",
       "0           L. Messi   31   Argentina       94         94   \n",
       "1  Cristiano Ronaldo   33    Portugal       94         94   \n",
       "2          Neymar Jr   26      Brazil       92         93   \n",
       "3             De Gea   27       Spain       91         93   \n",
       "4       K. De Bruyne   27     Belgium       91         92   \n",
       "\n",
       "                  Club    Value Preferred Foot Position  Weak Foot  ...  \\\n",
       "0         FC Barcelona  €110.5M           Left       RF        4.0  ...   \n",
       "1             Juventus     €77M          Right       ST        4.0  ...   \n",
       "2  Paris Saint-Germain  €118.5M          Right       LW        5.0  ...   \n",
       "3    Manchester United     €72M          Right       GK        3.0  ...   \n",
       "4      Manchester City    €102M          Right      RCM        5.0  ...   \n",
       "\n",
       "   SprintSpeed  Stamina  Strength  LongShots  Aggression  Interceptions  \\\n",
       "0         86.0     72.0      59.0       94.0        48.0           22.0   \n",
       "1         91.0     88.0      79.0       93.0        63.0           29.0   \n",
       "2         90.0     81.0      49.0       82.0        56.0           36.0   \n",
       "3         58.0     43.0      64.0       12.0        38.0           30.0   \n",
       "4         76.0     90.0      75.0       91.0        76.0           61.0   \n",
       "\n",
       "   Positioning  Vision  Penalties  ValueNumeric  \n",
       "0         94.0    94.0       75.0   110500000.0  \n",
       "1         95.0    82.0       85.0    77000000.0  \n",
       "2         89.0    87.0       81.0   118500000.0  \n",
       "3         12.0    68.0       40.0    72000000.0  \n",
       "4         87.0    94.0       79.0   102000000.0  \n",
       "\n",
       "[5 rows x 21 columns]"
      ]
     },
     "execution_count": 11,
     "metadata": {},
     "output_type": "execute_result"
    }
   ],
   "source": [
    "#Now we convert the column from object to float64\n",
    "fifa.head()"
   ]
  },
  {
   "cell_type": "markdown",
   "metadata": {},
   "source": [
    "#### We'd like to determine whether a player's preffered foot and position have an impact on their value. \n",
    "\n",
    "Using the `statsmodels` library, we are able to produce an ANOVA table without munging our data. Create an ANOVA table with value as a function of position and preferred foot. Recall that pivoting is performed by the `C` function.\n",
    "\n",
    "Hint: For columns that have a space in their name, it is best to refer to the column using the dataframe (For example: for column `A`, we will use `df['A']`)."
   ]
  },
  {
   "cell_type": "code",
   "execution_count": 5,
   "metadata": {},
   "outputs": [],
   "source": [
    "# Your code here:\n",
    "\n"
   ]
  },
  {
   "cell_type": "markdown",
   "metadata": {},
   "source": [
    "What is your conclusion from this ANOVA?"
   ]
  },
  {
   "cell_type": "code",
   "execution_count": 6,
   "metadata": {},
   "outputs": [],
   "source": [
    "# Your conclusions here:\n",
    "\n"
   ]
  },
  {
   "cell_type": "markdown",
   "metadata": {},
   "source": [
    "After looking at a model of both preffered foot and position, we decide to create an ANOVA table for nationality. Create an ANOVA table for numeric value as a function of nationality."
   ]
  },
  {
   "cell_type": "code",
   "execution_count": 8,
   "metadata": {},
   "outputs": [],
   "source": [
    "# Your code here:\n",
    "\n"
   ]
  },
  {
   "cell_type": "markdown",
   "metadata": {},
   "source": [
    "What is your conclusion from this ANOVA?"
   ]
  },
  {
   "cell_type": "markdown",
   "metadata": {},
   "source": [
    "# Challenge 2 - Linear Regression\n",
    "\n",
    "Our goal with using linear regression is to create a mathematical model that will enable us to predict the outcome of one variable using one or more additional independent variables.\n",
    "\n",
    "We'll start by ensuring there are no missing values. Examine all variables for all missing values. If there are missing values in a row, remove the entire row."
   ]
  },
  {
   "cell_type": "code",
   "execution_count": 13,
   "metadata": {},
   "outputs": [
    {
     "name": "stdout",
     "output_type": "stream",
     "text": [
      "<class 'pandas.core.frame.DataFrame'>\n",
      "RangeIndex: 18207 entries, 0 to 18206\n",
      "Data columns (total 21 columns):\n",
      "Name              18207 non-null object\n",
      "Age               18207 non-null int64\n",
      "Nationality       18207 non-null object\n",
      "Overall           18207 non-null int64\n",
      "Potential         18207 non-null int64\n",
      "Club              17966 non-null object\n",
      "Value             18207 non-null object\n",
      "Preferred Foot    18159 non-null object\n",
      "Position          18147 non-null object\n",
      "Weak Foot         18159 non-null float64\n",
      "Acceleration      18159 non-null float64\n",
      "SprintSpeed       18159 non-null float64\n",
      "Stamina           18159 non-null float64\n",
      "Strength          18159 non-null float64\n",
      "LongShots         18159 non-null float64\n",
      "Aggression        18159 non-null float64\n",
      "Interceptions     18159 non-null float64\n",
      "Positioning       18159 non-null float64\n",
      "Vision            18159 non-null float64\n",
      "Penalties         18159 non-null float64\n",
      "ValueNumeric      18207 non-null float64\n",
      "dtypes: float64(12), int64(3), object(6)\n",
      "memory usage: 2.9+ MB\n"
     ]
    }
   ],
   "source": [
    "# Your code here:\n",
    "fifa.info()"
   ]
  },
  {
   "cell_type": "markdown",
   "metadata": {},
   "source": [
    "Using the FIFA dataset, in the cell below, create a linear model predicting value using stamina and sprint speed. create the model using `statsmodels`. Print the model summary.\n",
    "\n",
    "Hint: remember to add an intercept to the model using the `add_constant` function."
   ]
  },
  {
   "cell_type": "code",
   "execution_count": 10,
   "metadata": {},
   "outputs": [],
   "source": [
    "# Your code here:\n",
    "\n"
   ]
  },
  {
   "cell_type": "markdown",
   "metadata": {},
   "source": [
    "Report your findings from the model summary. In particular, report about the model as a whole using the F-test and how much variation is predicted by the model using the r squared."
   ]
  },
  {
   "cell_type": "code",
   "execution_count": 11,
   "metadata": {},
   "outputs": [],
   "source": [
    "# Your conclusions here:\n",
    "\n"
   ]
  },
  {
   "cell_type": "markdown",
   "metadata": {},
   "source": [
    "Next, create a second regression model predicting value using potential. Create the model using `statsmodels` and print the model summary. Remember to add a constant term."
   ]
  },
  {
   "cell_type": "code",
   "execution_count": 12,
   "metadata": {},
   "outputs": [],
   "source": [
    "# Your code here:\n",
    "\n"
   ]
  },
  {
   "cell_type": "markdown",
   "metadata": {},
   "source": [
    "Report your findings from the model summary. In particular, report about the model as a whole using the F-test and how much variation is predicted by the model using the r squared."
   ]
  },
  {
   "cell_type": "code",
   "execution_count": 13,
   "metadata": {},
   "outputs": [],
   "source": [
    "# Your conclusions here:\n",
    "\n"
   ]
  },
  {
   "cell_type": "markdown",
   "metadata": {},
   "source": [
    "Plot a scatter plot of value vs. potential. Do you see a linear relationship?"
   ]
  },
  {
   "cell_type": "code",
   "execution_count": 14,
   "metadata": {},
   "outputs": [],
   "source": [
    "# Your code here:\n",
    "\n"
   ]
  },
  {
   "cell_type": "code",
   "execution_count": null,
   "metadata": {},
   "outputs": [],
   "source": []
  }
 ],
 "metadata": {
  "kernelspec": {
   "display_name": "Python 3",
   "language": "python",
   "name": "python3"
  },
  "language_info": {
   "codemirror_mode": {
    "name": "ipython",
    "version": 3
   },
   "file_extension": ".py",
   "mimetype": "text/x-python",
   "name": "python",
   "nbconvert_exporter": "python",
   "pygments_lexer": "ipython3",
   "version": "3.7.3"
  },
  "toc": {
   "base_numbering": 1,
   "nav_menu": {},
   "number_sections": true,
   "sideBar": true,
   "skip_h1_title": false,
   "title_cell": "Table of Contents",
   "title_sidebar": "Contents",
   "toc_cell": false,
   "toc_position": {},
   "toc_section_display": true,
   "toc_window_display": false
  },
  "varInspector": {
   "cols": {
    "lenName": 16,
    "lenType": 16,
    "lenVar": 40
   },
   "kernels_config": {
    "python": {
     "delete_cmd_postfix": "",
     "delete_cmd_prefix": "del ",
     "library": "var_list.py",
     "varRefreshCmd": "print(var_dic_list())"
    },
    "r": {
     "delete_cmd_postfix": ") ",
     "delete_cmd_prefix": "rm(",
     "library": "var_list.r",
     "varRefreshCmd": "cat(var_dic_list()) "
    }
   },
   "types_to_exclude": [
    "module",
    "function",
    "builtin_function_or_method",
    "instance",
    "_Feature"
   ],
   "window_display": false
  }
 },
 "nbformat": 4,
 "nbformat_minor": 2
}
